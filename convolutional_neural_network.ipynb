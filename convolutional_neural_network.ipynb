{
  "nbformat": 4,
  "nbformat_minor": 2,
  "metadata": {
    "colab": {
      "name": "convolutional_neural_network.ipynb",
      "provenance": [],
      "collapsed_sections": [],
      "toc_visible": true
    },
    "kernelspec": {
      "name": "python3",
      "display_name": "Python 3.9.0 64-bit"
    },
    "metadata": {
      "interpreter": {
        "hash": "85cb5057302a191b2061ff39747e3b9c34b3528f454435c39db1fb97a1dd2df0"
      }
    },
    "language_info": {
      "name": "python",
      "version": "3.9.0",
      "mimetype": "text/x-python",
      "codemirror_mode": {
        "name": "ipython",
        "version": 3
      },
      "pygments_lexer": "ipython3",
      "nbconvert_exporter": "python",
      "file_extension": ".py"
    },
    "interpreter": {
      "hash": "85cb5057302a191b2061ff39747e3b9c34b3528f454435c39db1fb97a1dd2df0"
    }
  },
  "cells": [
    {
      "cell_type": "markdown",
      "source": [
        "# Convolutional Neural Network"
      ],
      "metadata": {
        "id": "3DR-eO17geWu",
        "colab_type": "text"
      }
    },
    {
      "cell_type": "markdown",
      "source": [
        "### Importing the libraries"
      ],
      "metadata": {
        "id": "EMefrVPCg-60",
        "colab_type": "text"
      }
    },
    {
      "cell_type": "code",
      "execution_count": 1,
      "source": [
        "import tensorflow as tf\r\n",
        "from keras.preprocessing.image import ImageDataGenerator"
      ],
      "outputs": [],
      "metadata": {
        "id": "sCV30xyVhFbE",
        "colab_type": "code",
        "colab": {}
      }
    },
    {
      "cell_type": "code",
      "execution_count": 2,
      "source": [
        "tf.__version__"
      ],
      "outputs": [
        {
          "output_type": "execute_result",
          "data": {
            "text/plain": [
              "'2.6.0'"
            ]
          },
          "metadata": {},
          "execution_count": 2
        }
      ],
      "metadata": {
        "id": "FIleuCAjoFD8",
        "colab_type": "code",
        "colab": {}
      }
    },
    {
      "cell_type": "markdown",
      "source": [
        "## Part 1 - Data Preprocessing"
      ],
      "metadata": {
        "id": "oxQxCBWyoGPE",
        "colab_type": "text"
      }
    },
    {
      "cell_type": "markdown",
      "source": [
        "### Preprocessing the Training set"
      ],
      "metadata": {
        "id": "MvE-heJNo3GG",
        "colab_type": "text"
      }
    },
    {
      "cell_type": "code",
      "execution_count": 3,
      "source": [
        "train_datagen = ImageDataGenerator(rescale = 1./255,\r\n",
        "                                   shear_range = 0.2,\r\n",
        "                                   zoom_range = 0.2,\r\n",
        "                                   horizontal_flip = True)\r\n",
        "training_set = train_datagen.flow_from_directory('dataset/training_set',\r\n",
        "                                                 target_size = (64, 64),\r\n",
        "                                                 batch_size = 32,\r\n",
        "                                                 class_mode = 'binary')"
      ],
      "outputs": [
        {
          "output_type": "stream",
          "name": "stdout",
          "text": [
            "Found 80 images belonging to 2 classes.\n"
          ]
        }
      ],
      "metadata": {
        "id": "0koUcJMJpEBD",
        "colab_type": "code",
        "colab": {}
      }
    },
    {
      "cell_type": "markdown",
      "source": [
        "### Preprocessing the Test set"
      ],
      "metadata": {
        "id": "mrCMmGw9pHys",
        "colab_type": "text"
      }
    },
    {
      "cell_type": "code",
      "execution_count": 4,
      "source": [
        "test_datagen = ImageDataGenerator(rescale = 1./255)\r\n",
        "test_set = test_datagen.flow_from_directory('dataset/test_set',\r\n",
        "                                            target_size = (64, 64),\r\n",
        "                                            batch_size = 32,\r\n",
        "                                            class_mode = 'binary')"
      ],
      "outputs": [
        {
          "output_type": "stream",
          "name": "stdout",
          "text": [
            "Found 39 images belonging to 2 classes.\n"
          ]
        }
      ],
      "metadata": {
        "id": "SH4WzfOhpKc3",
        "colab_type": "code",
        "colab": {}
      }
    },
    {
      "cell_type": "markdown",
      "source": [
        "## Part 2 - Building the CNN"
      ],
      "metadata": {
        "id": "af8O4l90gk7B",
        "colab_type": "text"
      }
    },
    {
      "cell_type": "markdown",
      "source": [
        "### Initialising the CNN"
      ],
      "metadata": {
        "id": "ces1gXY2lmoX",
        "colab_type": "text"
      }
    },
    {
      "cell_type": "code",
      "execution_count": 5,
      "source": [
        "cnn = tf.keras.models.Sequential()"
      ],
      "outputs": [],
      "metadata": {
        "id": "SAUt4UMPlhLS",
        "colab_type": "code",
        "colab": {}
      }
    },
    {
      "cell_type": "markdown",
      "source": [
        "### Step 1 - Convolution"
      ],
      "metadata": {
        "id": "u5YJj_XMl5LF",
        "colab_type": "text"
      }
    },
    {
      "cell_type": "code",
      "execution_count": 6,
      "source": [
        "cnn.add(tf.keras.layers.Conv2D(filters=32, kernel_size=3, activation='relu', input_shape=[64, 64, 3]))"
      ],
      "outputs": [],
      "metadata": {
        "id": "XPzPrMckl-hV",
        "colab_type": "code",
        "colab": {}
      }
    },
    {
      "cell_type": "markdown",
      "source": [
        "### Step 2 - Pooling"
      ],
      "metadata": {
        "id": "tf87FpvxmNOJ",
        "colab_type": "text"
      }
    },
    {
      "cell_type": "code",
      "execution_count": 7,
      "source": [
        "cnn.add(tf.keras.layers.MaxPool2D(pool_size=2, strides=2))"
      ],
      "outputs": [],
      "metadata": {
        "id": "ncpqPl69mOac",
        "colab_type": "code",
        "colab": {}
      }
    },
    {
      "cell_type": "markdown",
      "source": [
        "### Adding a second convolutional layer"
      ],
      "metadata": {
        "id": "xaTOgD8rm4mU",
        "colab_type": "text"
      }
    },
    {
      "cell_type": "code",
      "execution_count": 8,
      "source": [
        "cnn.add(tf.keras.layers.Conv2D(filters=32, kernel_size=3, activation='relu'))\r\n",
        "cnn.add(tf.keras.layers.MaxPool2D(pool_size=2, strides=2))"
      ],
      "outputs": [],
      "metadata": {
        "id": "i_-FZjn_m8gk",
        "colab_type": "code",
        "colab": {}
      }
    },
    {
      "cell_type": "markdown",
      "source": [
        "### Step 3 - Flattening"
      ],
      "metadata": {
        "id": "tmiEuvTunKfk",
        "colab_type": "text"
      }
    },
    {
      "cell_type": "code",
      "execution_count": 9,
      "source": [
        "cnn.add(tf.keras.layers.Flatten())"
      ],
      "outputs": [],
      "metadata": {
        "id": "6AZeOGCvnNZn",
        "colab_type": "code",
        "colab": {}
      }
    },
    {
      "cell_type": "markdown",
      "source": [
        "### Step 4 - Full Connection"
      ],
      "metadata": {
        "id": "dAoSECOm203v",
        "colab_type": "text"
      }
    },
    {
      "cell_type": "code",
      "execution_count": 10,
      "source": [
        "cnn.add(tf.keras.layers.Dense(units=128, activation='relu'))"
      ],
      "outputs": [],
      "metadata": {
        "id": "8GtmUlLd26Nq",
        "colab_type": "code",
        "colab": {}
      }
    },
    {
      "cell_type": "markdown",
      "source": [
        "### Step 5 - Output Layer"
      ],
      "metadata": {
        "id": "yTldFvbX28Na",
        "colab_type": "text"
      }
    },
    {
      "cell_type": "code",
      "execution_count": 11,
      "source": [
        "cnn.add(tf.keras.layers.Dense(units=1, activation='sigmoid'))"
      ],
      "outputs": [],
      "metadata": {
        "id": "1p_Zj1Mc3Ko_",
        "colab_type": "code",
        "colab": {}
      }
    },
    {
      "cell_type": "markdown",
      "source": [
        "## Part 3 - Training the CNN"
      ],
      "metadata": {
        "id": "D6XkI90snSDl",
        "colab_type": "text"
      }
    },
    {
      "cell_type": "markdown",
      "source": [
        "### Compiling the CNN"
      ],
      "metadata": {
        "id": "vfrFQACEnc6i",
        "colab_type": "text"
      }
    },
    {
      "cell_type": "code",
      "execution_count": 12,
      "source": [
        "cnn.compile(optimizer = 'adam', loss = 'binary_crossentropy', metrics = ['accuracy'])"
      ],
      "outputs": [],
      "metadata": {
        "id": "NALksrNQpUlJ",
        "colab_type": "code",
        "colab": {}
      }
    },
    {
      "cell_type": "markdown",
      "source": [
        "### Training the CNN on the Training set and evaluating it on the Test set"
      ],
      "metadata": {
        "id": "ehS-v3MIpX2h",
        "colab_type": "text"
      }
    },
    {
      "cell_type": "code",
      "execution_count": 13,
      "source": [
        "cnn.fit(x = training_set, validation_data = test_set, epochs = 25)"
      ],
      "outputs": [
        {
          "output_type": "stream",
          "name": "stdout",
          "text": [
            "Epoch 1/25\n",
            "3/3 [==============================] - 3s 767ms/step - loss: 0.7442 - accuracy: 0.5750 - val_loss: 1.1034 - val_accuracy: 0.4872\n",
            "Epoch 2/25\n",
            "3/3 [==============================] - 1s 288ms/step - loss: 0.8610 - accuracy: 0.5000 - val_loss: 0.7190 - val_accuracy: 0.4872\n",
            "Epoch 3/25\n",
            "3/3 [==============================] - 1s 238ms/step - loss: 0.7006 - accuracy: 0.4750 - val_loss: 0.6973 - val_accuracy: 0.5128\n",
            "Epoch 4/25\n",
            "3/3 [==============================] - 1s 254ms/step - loss: 0.6911 - accuracy: 0.5000 - val_loss: 0.6944 - val_accuracy: 0.4872\n",
            "Epoch 5/25\n",
            "3/3 [==============================] - 1s 192ms/step - loss: 0.6867 - accuracy: 0.5375 - val_loss: 0.6933 - val_accuracy: 0.4615\n",
            "Epoch 6/25\n",
            "3/3 [==============================] - 0s 143ms/step - loss: 0.6809 - accuracy: 0.7750 - val_loss: 0.6943 - val_accuracy: 0.4615\n",
            "Epoch 7/25\n",
            "3/3 [==============================] - 1s 234ms/step - loss: 0.6772 - accuracy: 0.6625 - val_loss: 0.6922 - val_accuracy: 0.5128\n",
            "Epoch 8/25\n",
            "3/3 [==============================] - 1s 256ms/step - loss: 0.6773 - accuracy: 0.5625 - val_loss: 0.6991 - val_accuracy: 0.5128\n",
            "Epoch 9/25\n",
            "3/3 [==============================] - 1s 172ms/step - loss: 0.6681 - accuracy: 0.6250 - val_loss: 0.6890 - val_accuracy: 0.5385\n",
            "Epoch 10/25\n",
            "3/3 [==============================] - 1s 194ms/step - loss: 0.6515 - accuracy: 0.6750 - val_loss: 0.6927 - val_accuracy: 0.5641\n",
            "Epoch 11/25\n",
            "3/3 [==============================] - 1s 265ms/step - loss: 0.6333 - accuracy: 0.7000 - val_loss: 0.6935 - val_accuracy: 0.5641\n",
            "Epoch 12/25\n",
            "3/3 [==============================] - 1s 159ms/step - loss: 0.6059 - accuracy: 0.7375 - val_loss: 0.6945 - val_accuracy: 0.4359\n",
            "Epoch 13/25\n",
            "3/3 [==============================] - 1s 308ms/step - loss: 0.5961 - accuracy: 0.7250 - val_loss: 0.6847 - val_accuracy: 0.4872\n",
            "Epoch 14/25\n",
            "3/3 [==============================] - 1s 275ms/step - loss: 0.5559 - accuracy: 0.7500 - val_loss: 0.7136 - val_accuracy: 0.5385\n",
            "Epoch 15/25\n",
            "3/3 [==============================] - 1s 173ms/step - loss: 0.5758 - accuracy: 0.6625 - val_loss: 0.6945 - val_accuracy: 0.5385\n",
            "Epoch 16/25\n",
            "3/3 [==============================] - 1s 167ms/step - loss: 0.5263 - accuracy: 0.7500 - val_loss: 0.7081 - val_accuracy: 0.5385\n",
            "Epoch 17/25\n",
            "3/3 [==============================] - 1s 162ms/step - loss: 0.5145 - accuracy: 0.7625 - val_loss: 0.7131 - val_accuracy: 0.5128\n",
            "Epoch 18/25\n",
            "3/3 [==============================] - 1s 168ms/step - loss: 0.4697 - accuracy: 0.8375 - val_loss: 0.7382 - val_accuracy: 0.5128\n",
            "Epoch 19/25\n",
            "3/3 [==============================] - 1s 240ms/step - loss: 0.5138 - accuracy: 0.7250 - val_loss: 0.7329 - val_accuracy: 0.4872\n",
            "Epoch 20/25\n",
            "3/3 [==============================] - 1s 270ms/step - loss: 0.4195 - accuracy: 0.8875 - val_loss: 0.7336 - val_accuracy: 0.5641\n",
            "Epoch 21/25\n",
            "3/3 [==============================] - 1s 344ms/step - loss: 0.4161 - accuracy: 0.8125 - val_loss: 0.7812 - val_accuracy: 0.4615\n",
            "Epoch 22/25\n",
            "3/3 [==============================] - 1s 266ms/step - loss: 0.4530 - accuracy: 0.7875 - val_loss: 0.7682 - val_accuracy: 0.5385\n",
            "Epoch 23/25\n",
            "3/3 [==============================] - 1s 162ms/step - loss: 0.4027 - accuracy: 0.8375 - val_loss: 0.7529 - val_accuracy: 0.4872\n",
            "Epoch 24/25\n",
            "3/3 [==============================] - 1s 168ms/step - loss: 0.4188 - accuracy: 0.8125 - val_loss: 0.7271 - val_accuracy: 0.5128\n",
            "Epoch 25/25\n",
            "3/3 [==============================] - 0s 163ms/step - loss: 0.4069 - accuracy: 0.8625 - val_loss: 0.8102 - val_accuracy: 0.4872\n"
          ]
        },
        {
          "output_type": "execute_result",
          "data": {
            "text/plain": [
              "<keras.callbacks.History at 0x1fc8a757790>"
            ]
          },
          "metadata": {},
          "execution_count": 13
        }
      ],
      "metadata": {
        "id": "XUj1W4PJptta",
        "colab_type": "code",
        "colab": {}
      }
    },
    {
      "cell_type": "markdown",
      "source": [
        "## Part 4 - Making a single prediction"
      ],
      "metadata": {
        "id": "U3PZasO0006Z",
        "colab_type": "text"
      }
    },
    {
      "cell_type": "code",
      "execution_count": 18,
      "source": [
        "import numpy as np\r\n",
        "from keras.preprocessing import image\r\n",
        "test_image = image.load_img('dataset/single_prediction/Dog.jpg', target_size = (64, 64))\r\n",
        "test_image = image.img_to_array(test_image)\r\n",
        "test_image = np.expand_dims(test_image, axis = 0)\r\n",
        "result = cnn.predict(test_image)\r\n",
        "training_set.class_indices\r\n",
        "if result[0][0] >= 0.6:\r\n",
        "  prediction = 'dog'\r\n",
        "else:\r\n",
        "  prediction = 'cat'"
      ],
      "outputs": [
        {
          "output_type": "stream",
          "name": "stdout",
          "text": [
            "[[1.]]\n"
          ]
        }
      ],
      "metadata": {
        "id": "gsSiWEJY1BPB",
        "colab_type": "code",
        "colab": {}
      }
    },
    {
      "cell_type": "code",
      "execution_count": 17,
      "source": [
        "print(prediction)"
      ],
      "outputs": [
        {
          "output_type": "stream",
          "name": "stdout",
          "text": [
            "dog\n"
          ]
        }
      ],
      "metadata": {
        "id": "ED9KB3I54c1i",
        "colab_type": "code",
        "colab": {}
      }
    },
    {
      "cell_type": "code",
      "execution_count": null,
      "source": [],
      "outputs": [],
      "metadata": {}
    }
  ]
}